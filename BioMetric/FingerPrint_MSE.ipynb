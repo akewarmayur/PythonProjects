{
 "cells": [
  {
   "cell_type": "code",
   "execution_count": 85,
   "metadata": {
    "collapsed": true
   },
   "outputs": [],
   "source": [
    "# Import functions and libraries\n",
    "import numpy as np\n",
    "import matplotlib.pyplot as plt\n",
    "import scipy\n",
    "import cv2 as cv\n",
    "from numpy import pi\n",
    "from numpy import sin\n",
    "from numpy import zeros\n",
    "from numpy import r_\n",
    "from scipy import signal\n",
    "from scipy import misc # pip install Pillow\n",
    "import math\n",
    "import matplotlib.pylab as pylab\n",
    "%matplotlib inline"
   ]
  },
  {
   "cell_type": "code",
   "execution_count": 86,
   "metadata": {},
   "outputs": [
    {
     "name": "stderr",
     "output_type": "stream",
     "text": [
      "/home/maddy/anaconda3/lib/python3.6/site-packages/ipykernel_launcher.py:1: DeprecationWarning: `imread` is deprecated!\n",
      "`imread` is deprecated in SciPy 1.0.0, and will be removed in 1.2.0.\n",
      "Use ``imageio.imread`` instead.\n",
      "  \"\"\"Entry point for launching an IPython kernel.\n"
     ]
    }
   ],
   "source": [
    "fp = misc.imread(\"fingerprint/1_1.png\") # image path\n",
    "fp = cv.cvtColor(fp, cv.COLOR_BGR2GRAY)"
   ]
  },
  {
   "cell_type": "code",
   "execution_count": 87,
   "metadata": {
    "collapsed": true
   },
   "outputs": [],
   "source": [
    "# DCT and IDCT functions for transforming an image\n",
    "def dct2(a):\n",
    "    return scipy.fftpack.dct( scipy.fftpack.dct( a, axis=0, norm='ortho' ), axis=1, norm='ortho' )\n",
    "\n",
    "def idct2(a):\n",
    "    return scipy.fftpack.idct( scipy.fftpack.idct( a, axis=0 , norm='ortho'))"
   ]
  },
  {
   "cell_type": "code",
   "execution_count": 88,
   "metadata": {
    "collapsed": true
   },
   "outputs": [],
   "source": [
    "# DCT transformation on finger print image using 8x8 block\n",
    "imsize = fp.shape\n",
    "fp_dct = np.zeros(imsize)\n",
    "\n",
    "# Do 8x8 DCT on image (in-place)\n",
    "for i in r_[:imsize[0]:8]:\n",
    "    for j in r_[:imsize[1]:8]:\n",
    "        fp_dct[i:(i+8),j:(j+8)] = dct2( fp[i:(i+8),j:(j+8)] )"
   ]
  },
  {
   "cell_type": "code",
   "execution_count": 89,
   "metadata": {},
   "outputs": [],
   "source": [
    "# 8X8\n",
    "thresh = 0.012\n",
    "dct_thresh_fp = fp_dct * (abs(fp_dct) > (thresh*np.max(fp_dct)))\n",
    "dct_fp = np.zeros(imsize)\n",
    "\n",
    "for i in r_[:imsize[0]:8]:\n",
    "    for j in r_[:imsize[1]:8]:\n",
    "        dct_fp[i:(i+8),j:(j+8)] = idct2( dct_thresh_fp[i:(i+8),j:(j+8)] )\n",
    "        "
   ]
  },
  {
   "cell_type": "code",
   "execution_count": 90,
   "metadata": {},
   "outputs": [],
   "source": [
    "from sklearn.metrics import mean_squared_error\n"
   ]
  },
  {
   "cell_type": "code",
   "execution_count": 91,
   "metadata": {},
   "outputs": [
    {
     "data": {
      "text/plain": [
       "True"
      ]
     },
     "execution_count": 91,
     "metadata": {},
     "output_type": "execute_result"
    }
   ],
   "source": [
    "cv.imwrite(\"compr/fp_8x8.png\",dct_fp)"
   ]
  },
  {
   "cell_type": "code",
   "execution_count": 92,
   "metadata": {},
   "outputs": [
    {
     "name": "stderr",
     "output_type": "stream",
     "text": [
      "/home/maddy/anaconda3/lib/python3.6/site-packages/ipykernel_launcher.py:1: DeprecationWarning: `imread` is deprecated!\n",
      "`imread` is deprecated in SciPy 1.0.0, and will be removed in 1.2.0.\n",
      "Use ``imageio.imread`` instead.\n",
      "  \"\"\"Entry point for launching an IPython kernel.\n"
     ]
    }
   ],
   "source": [
    "fp_8x8 = misc.imread(\"compr/fp_8x8.png\") # image path"
   ]
  },
  {
   "cell_type": "code",
   "execution_count": 93,
   "metadata": {},
   "outputs": [
    {
     "name": "stdout",
     "output_type": "stream",
     "text": [
      "110.76\n",
      "10.52\n"
     ]
    }
   ],
   "source": [
    "mse_8x8 = round(mean_squared_error(fp_8x8,fp),2)\n",
    "print(mse_8x8)\n",
    "rmse_8x8 = round(math.sqrt( mse_8x8 ),2)\n",
    "print(rmse_8x8)"
   ]
  },
  {
   "cell_type": "code",
   "execution_count": 94,
   "metadata": {
    "collapsed": true
   },
   "outputs": [],
   "source": [
    "# DCT transformation on finger print image using 16x16 block\n",
    "imsize = fp.shape\n",
    "fp_dct = np.zeros(imsize)\n",
    "\n",
    "# Do 8x8 DCT on image (in-place)\n",
    "for i in r_[:imsize[0]:16]:\n",
    "    for j in r_[:imsize[1]:16]:\n",
    "        fp_dct[i:(i+16),j:(j+16)] = dct2( fp[i:(i+16),j:(j+16)] )"
   ]
  },
  {
   "cell_type": "code",
   "execution_count": 95,
   "metadata": {
    "collapsed": true
   },
   "outputs": [],
   "source": [
    "# 16x16\n",
    "thresh = 0.012\n",
    "dct_thresh_fp = fp_dct * (abs(fp_dct) > (thresh*np.max(fp_dct)))\n",
    "dct_fp = np.zeros(imsize)\n",
    "\n",
    "for i in r_[:imsize[0]:16]:\n",
    "    for j in r_[:imsize[1]:16]:\n",
    "        dct_fp[i:(i+16),j:(j+16)] = idct2( dct_thresh_fp[i:(i+16),j:(j+16)] )"
   ]
  },
  {
   "cell_type": "code",
   "execution_count": 96,
   "metadata": {},
   "outputs": [
    {
     "name": "stderr",
     "output_type": "stream",
     "text": [
      "/home/maddy/anaconda3/lib/python3.6/site-packages/ipykernel_launcher.py:2: DeprecationWarning: `imread` is deprecated!\n",
      "`imread` is deprecated in SciPy 1.0.0, and will be removed in 1.2.0.\n",
      "Use ``imageio.imread`` instead.\n",
      "  \n"
     ]
    }
   ],
   "source": [
    "cv.imwrite(\"compr/fp_16x16.png\",dct_fp)\n",
    "fp_16x16 = misc.imread(\"compr/fp_16x16.png\") # image path"
   ]
  },
  {
   "cell_type": "code",
   "execution_count": 97,
   "metadata": {},
   "outputs": [
    {
     "name": "stdout",
     "output_type": "stream",
     "text": [
      "116.97\n",
      "10.82\n"
     ]
    }
   ],
   "source": [
    "mse_16x16 = round(mean_squared_error(fp_16x16,fp),2)\n",
    "print(mse_16x16)\n",
    "rmse_16x16 = round(math.sqrt( mse_16x16 ),2)\n",
    "print(rmse_16x16)"
   ]
  },
  {
   "cell_type": "code",
   "execution_count": 98,
   "metadata": {
    "collapsed": true
   },
   "outputs": [],
   "source": [
    "# DCT transformation on finger print image using 32x32 block\n",
    "imsize = fp.shape\n",
    "fp_dct = np.zeros(imsize)\n",
    "\n",
    "# Do 32x32 DCT on image (in-place)\n",
    "for i in r_[:imsize[0]:32]:\n",
    "    for j in r_[:imsize[1]:32]:\n",
    "        fp_dct[i:(i+32),j:(j+32)] = dct2( fp[i:(i+32),j:(j+32)] )"
   ]
  },
  {
   "cell_type": "code",
   "execution_count": 99,
   "metadata": {
    "collapsed": true
   },
   "outputs": [],
   "source": [
    "# 32X32\n",
    "thresh = 0.012\n",
    "dct_thresh_fp = fp_dct * (abs(fp_dct) > (thresh*np.max(fp_dct)))\n",
    "dct_fp = np.zeros(imsize)\n",
    "\n",
    "for i in r_[:imsize[0]:32]:\n",
    "    for j in r_[:imsize[1]:32]:\n",
    "        dct_fp[i:(i+32),j:(j+32)] = idct2( dct_thresh_fp[i:(i+32),j:(j+32)] )"
   ]
  },
  {
   "cell_type": "code",
   "execution_count": 100,
   "metadata": {},
   "outputs": [
    {
     "name": "stderr",
     "output_type": "stream",
     "text": [
      "/home/maddy/anaconda3/lib/python3.6/site-packages/ipykernel_launcher.py:2: DeprecationWarning: `imread` is deprecated!\n",
      "`imread` is deprecated in SciPy 1.0.0, and will be removed in 1.2.0.\n",
      "Use ``imageio.imread`` instead.\n",
      "  \n"
     ]
    }
   ],
   "source": [
    "cv.imwrite(\"compr/fp_32x32.png\",dct_fp)\n",
    "fp_32x32 = misc.imread(\"compr/fp_32x32.png\") # image path"
   ]
  },
  {
   "cell_type": "code",
   "execution_count": 101,
   "metadata": {},
   "outputs": [
    {
     "name": "stdout",
     "output_type": "stream",
     "text": [
      "120.22\n",
      "10.96\n"
     ]
    }
   ],
   "source": [
    "mse_32x32 = round(mean_squared_error(fp_32x32,fp),2)\n",
    "print(mse_32x32)\n",
    "rmse_32x32 = round(math.sqrt( mse_32x32 ),2)\n",
    "print(rmse_32x32)"
   ]
  },
  {
   "cell_type": "code",
   "execution_count": 102,
   "metadata": {
    "collapsed": true
   },
   "outputs": [],
   "source": [
    "# DCT transformation on finger print image using 64x64 block\n",
    "imsize = fp.shape\n",
    "fp_dct = np.zeros(imsize)\n",
    "\n",
    "# Do 64x64 DCT on image (in-place)\n",
    "for i in r_[:imsize[0]:64]:\n",
    "    for j in r_[:imsize[1]:64]:\n",
    "        fp_dct[i:(i+64),j:(j+64)] = dct2( fp[i:(i+64),j:(j+64)] )"
   ]
  },
  {
   "cell_type": "code",
   "execution_count": 103,
   "metadata": {
    "collapsed": true
   },
   "outputs": [],
   "source": [
    "# 64x64\n",
    "thresh = 0.012\n",
    "dct_thresh_fp = fp_dct * (abs(fp_dct) > (thresh*np.max(fp_dct)))\n",
    "dct_fp = np.zeros(imsize)\n",
    "\n",
    "for i in r_[:imsize[0]:64]:\n",
    "    for j in r_[:imsize[1]:64]:\n",
    "        dct_fp[i:(i+64),j:(j+64)] = idct2( dct_thresh_fp[i:(i+64),j:(j+64)] )"
   ]
  },
  {
   "cell_type": "code",
   "execution_count": 104,
   "metadata": {},
   "outputs": [
    {
     "name": "stderr",
     "output_type": "stream",
     "text": [
      "/home/maddy/anaconda3/lib/python3.6/site-packages/ipykernel_launcher.py:2: DeprecationWarning: `imread` is deprecated!\n",
      "`imread` is deprecated in SciPy 1.0.0, and will be removed in 1.2.0.\n",
      "Use ``imageio.imread`` instead.\n",
      "  \n"
     ]
    }
   ],
   "source": [
    "cv.imwrite(\"compr/fp_64x64.png\",dct_fp)\n",
    "fp_64x64 = misc.imread(\"compr/fp_64x64.png\") # image path"
   ]
  },
  {
   "cell_type": "code",
   "execution_count": 105,
   "metadata": {},
   "outputs": [
    {
     "name": "stdout",
     "output_type": "stream",
     "text": [
      "121.95\n",
      "11.04\n"
     ]
    }
   ],
   "source": [
    "mse_64x64 = round(mean_squared_error(fp_64x64,fp),2)\n",
    "print(mse_64x64)\n",
    "rmse_64x64 = round(math.sqrt( mse_64x64 ),2)\n",
    "print(rmse_64x64)"
   ]
  },
  {
   "cell_type": "code",
   "execution_count": 106,
   "metadata": {
    "collapsed": true
   },
   "outputs": [],
   "source": [
    "# DCT transformation on finger print image using 128x128 block\n",
    "imsize = fp.shape\n",
    "fp_dct = np.zeros(imsize)\n",
    "\n",
    "# Do 128x128 DCT on image (in-place)\n",
    "for i in r_[:imsize[0]:128]:\n",
    "    for j in r_[:imsize[1]:128]:\n",
    "        fp_dct[i:(i+128),j:(j+128)] = dct2( fp[i:(i+128),j:(j+128)] )"
   ]
  },
  {
   "cell_type": "code",
   "execution_count": 107,
   "metadata": {
    "collapsed": true
   },
   "outputs": [],
   "source": [
    "# 128x128\n",
    "thresh = 0.012\n",
    "dct_thresh_fp = fp_dct * (abs(fp_dct) > (thresh*np.max(fp_dct)))\n",
    "dct_fp = np.zeros(imsize)\n",
    "\n",
    "for i in r_[:imsize[0]:128]:\n",
    "    for j in r_[:imsize[1]:128]:\n",
    "        dct_fp[i:(i+128),j:(j+128)] = idct2( dct_thresh_fp[i:(i+128),j:(j+128)] )"
   ]
  },
  {
   "cell_type": "code",
   "execution_count": 108,
   "metadata": {},
   "outputs": [
    {
     "name": "stderr",
     "output_type": "stream",
     "text": [
      "/home/maddy/anaconda3/lib/python3.6/site-packages/ipykernel_launcher.py:2: DeprecationWarning: `imread` is deprecated!\n",
      "`imread` is deprecated in SciPy 1.0.0, and will be removed in 1.2.0.\n",
      "Use ``imageio.imread`` instead.\n",
      "  \n"
     ]
    }
   ],
   "source": [
    "cv.imwrite(\"compr/fp_128x128.png\",dct_fp)\n",
    "fp_128x128 = misc.imread(\"compr/fp_128x128.png\") # image path"
   ]
  },
  {
   "cell_type": "code",
   "execution_count": 109,
   "metadata": {},
   "outputs": [
    {
     "name": "stdout",
     "output_type": "stream",
     "text": [
      "122.86\n",
      "11.08\n"
     ]
    }
   ],
   "source": [
    "mse_128x128 = round(mean_squared_error(fp_128x128,fp),2)\n",
    "print(mse_128x128)\n",
    "rmse_128x128 = round(math.sqrt( mse_128x128 ),2)\n",
    "print(rmse_128x128)"
   ]
  },
  {
   "cell_type": "code",
   "execution_count": 110,
   "metadata": {
    "collapsed": true
   },
   "outputs": [],
   "source": [
    "# DCT transformation on finger print image using 256x256 block\n",
    "imsize = fp.shape\n",
    "fp_dct = np.zeros(imsize)\n",
    "\n",
    "# Do 256x256 DCT on image (in-place)\n",
    "for i in r_[:imsize[0]:256]:\n",
    "    for j in r_[:imsize[1]:256]:\n",
    "        fp_dct[i:(i+256),j:(j+256)] = dct2( fp[i:(i+256),j:(j+256)] )"
   ]
  },
  {
   "cell_type": "code",
   "execution_count": 111,
   "metadata": {
    "collapsed": true
   },
   "outputs": [],
   "source": [
    "#256x256\n",
    "thresh = 0.012\n",
    "dct_thresh_fp = fp_dct * (abs(fp_dct) > (thresh*np.max(fp_dct)))\n",
    "dct_fp = np.zeros(imsize)\n",
    "\n",
    "for i in r_[:imsize[0]:256]:\n",
    "    for j in r_[:imsize[1]:256]:\n",
    "        dct_fp[i:(i+256),j:(j+256)] = idct2( dct_thresh_fp[i:(i+256),j:(j+256)] )"
   ]
  },
  {
   "cell_type": "code",
   "execution_count": 112,
   "metadata": {},
   "outputs": [
    {
     "name": "stderr",
     "output_type": "stream",
     "text": [
      "/home/maddy/anaconda3/lib/python3.6/site-packages/ipykernel_launcher.py:2: DeprecationWarning: `imread` is deprecated!\n",
      "`imread` is deprecated in SciPy 1.0.0, and will be removed in 1.2.0.\n",
      "Use ``imageio.imread`` instead.\n",
      "  \n"
     ]
    }
   ],
   "source": [
    "cv.imwrite(\"compr/fp_256x256.png\",dct_fp)\n",
    "fp_256x256 = misc.imread(\"compr/fp_256x256.png\") # image path"
   ]
  },
  {
   "cell_type": "code",
   "execution_count": 113,
   "metadata": {},
   "outputs": [
    {
     "name": "stdout",
     "output_type": "stream",
     "text": [
      "124.21\n",
      "11.14\n"
     ]
    }
   ],
   "source": [
    "mse_256x256 = round(mean_squared_error(fp_256x256,fp),2)\n",
    "print(mse_256x256)\n",
    "rmse_256x256 = round(math.sqrt( mse_256x256 ),2)\n",
    "print(rmse_256x256)"
   ]
  },
  {
   "cell_type": "code",
   "execution_count": 114,
   "metadata": {},
   "outputs": [
    {
     "name": "stdout",
     "output_type": "stream",
     "text": [
      "[110.76, 116.97, 120.22, 121.95, 122.86, 124.21]\n",
      "[10.52, 10.82, 10.96, 11.04, 11.08, 11.14]\n"
     ]
    }
   ],
   "source": [
    "list_mse = [mse_8x8, mse_16x16, mse_32x32, mse_64x64, mse_128x128, mse_256x256]\n",
    "list_rmse = [rmse_8x8, rmse_16x16, rmse_32x32, rmse_64x64, rmse_128x128, rmse_256x256]\n",
    "print(list_mse)\n",
    "print(list_rmse)"
   ]
  },
  {
   "cell_type": "code",
   "execution_count": 115,
   "metadata": {},
   "outputs": [
    {
     "name": "stdout",
     "output_type": "stream",
     "text": [
      "['8x8', '16x16', '32x32', '64x64', '128x128', '256x256']\n",
      "['8x8', '16x16', '32x32', '64x64', '128x128', '256x256']\n"
     ]
    }
   ],
   "source": [
    "list_mse_name = [\"8x8\", \"16x16\", \"32x32\", \"64x64\", \"128x128\", \"256x256\"]\n",
    "list_rmse_name = [\"8x8\", \"16x16\", \"32x32\", \"64x64\", \"128x128\", \"256x256\"]\n",
    "print(list_mse_name)\n",
    "print(list_rmse_name)"
   ]
  },
  {
   "cell_type": "code",
   "execution_count": 121,
   "metadata": {},
   "outputs": [
    {
     "data": {
      "text/html": [
       "<div>\n",
       "<style>\n",
       "    .dataframe thead tr:only-child th {\n",
       "        text-align: right;\n",
       "    }\n",
       "\n",
       "    .dataframe thead th {\n",
       "        text-align: left;\n",
       "    }\n",
       "\n",
       "    .dataframe tbody tr th {\n",
       "        vertical-align: top;\n",
       "    }\n",
       "</style>\n",
       "<table border=\"1\" class=\"dataframe\">\n",
       "  <thead>\n",
       "    <tr style=\"text-align: right;\">\n",
       "      <th></th>\n",
       "      <th>MSE</th>\n",
       "      <th>Size</th>\n",
       "    </tr>\n",
       "  </thead>\n",
       "  <tbody>\n",
       "    <tr>\n",
       "      <th>0</th>\n",
       "      <td>110.76</td>\n",
       "      <td>8x8</td>\n",
       "    </tr>\n",
       "    <tr>\n",
       "      <th>1</th>\n",
       "      <td>116.97</td>\n",
       "      <td>16x16</td>\n",
       "    </tr>\n",
       "    <tr>\n",
       "      <th>2</th>\n",
       "      <td>120.22</td>\n",
       "      <td>32x32</td>\n",
       "    </tr>\n",
       "    <tr>\n",
       "      <th>3</th>\n",
       "      <td>121.95</td>\n",
       "      <td>64x64</td>\n",
       "    </tr>\n",
       "    <tr>\n",
       "      <th>4</th>\n",
       "      <td>122.86</td>\n",
       "      <td>128x128</td>\n",
       "    </tr>\n",
       "    <tr>\n",
       "      <th>5</th>\n",
       "      <td>124.21</td>\n",
       "      <td>256x256</td>\n",
       "    </tr>\n",
       "  </tbody>\n",
       "</table>\n",
       "</div>"
      ],
      "text/plain": [
       "      MSE     Size\n",
       "0  110.76      8x8\n",
       "1  116.97    16x16\n",
       "2  120.22    32x32\n",
       "3  121.95    64x64\n",
       "4  122.86  128x128\n",
       "5  124.21  256x256"
      ]
     },
     "execution_count": 121,
     "metadata": {},
     "output_type": "execute_result"
    }
   ],
   "source": [
    "import pandas as pd\n",
    "df_mse = pd.DataFrame(\n",
    "    {'Size': list_mse_name,\n",
    "     'MSE': list_mse,\n",
    "    })\n",
    "df_mse"
   ]
  },
  {
   "cell_type": "code",
   "execution_count": 122,
   "metadata": {},
   "outputs": [
    {
     "data": {
      "text/html": [
       "<div>\n",
       "<style>\n",
       "    .dataframe thead tr:only-child th {\n",
       "        text-align: right;\n",
       "    }\n",
       "\n",
       "    .dataframe thead th {\n",
       "        text-align: left;\n",
       "    }\n",
       "\n",
       "    .dataframe tbody tr th {\n",
       "        vertical-align: top;\n",
       "    }\n",
       "</style>\n",
       "<table border=\"1\" class=\"dataframe\">\n",
       "  <thead>\n",
       "    <tr style=\"text-align: right;\">\n",
       "      <th></th>\n",
       "      <th>RMSE</th>\n",
       "      <th>Size</th>\n",
       "    </tr>\n",
       "  </thead>\n",
       "  <tbody>\n",
       "    <tr>\n",
       "      <th>0</th>\n",
       "      <td>10.52</td>\n",
       "      <td>8x8</td>\n",
       "    </tr>\n",
       "    <tr>\n",
       "      <th>1</th>\n",
       "      <td>10.82</td>\n",
       "      <td>16x16</td>\n",
       "    </tr>\n",
       "    <tr>\n",
       "      <th>2</th>\n",
       "      <td>10.96</td>\n",
       "      <td>32x32</td>\n",
       "    </tr>\n",
       "    <tr>\n",
       "      <th>3</th>\n",
       "      <td>11.04</td>\n",
       "      <td>64x64</td>\n",
       "    </tr>\n",
       "    <tr>\n",
       "      <th>4</th>\n",
       "      <td>11.08</td>\n",
       "      <td>128x128</td>\n",
       "    </tr>\n",
       "    <tr>\n",
       "      <th>5</th>\n",
       "      <td>11.14</td>\n",
       "      <td>256x256</td>\n",
       "    </tr>\n",
       "  </tbody>\n",
       "</table>\n",
       "</div>"
      ],
      "text/plain": [
       "    RMSE     Size\n",
       "0  10.52      8x8\n",
       "1  10.82    16x16\n",
       "2  10.96    32x32\n",
       "3  11.04    64x64\n",
       "4  11.08  128x128\n",
       "5  11.14  256x256"
      ]
     },
     "execution_count": 122,
     "metadata": {},
     "output_type": "execute_result"
    }
   ],
   "source": [
    "df_rmse = pd.DataFrame(\n",
    "    {'Size': list_rmse_name,\n",
    "     'RMSE': list_rmse,\n",
    "    })\n",
    "df_rmse"
   ]
  },
  {
   "cell_type": "code",
   "execution_count": 133,
   "metadata": {},
   "outputs": [
    {
     "data": {
      "image/png": "[encoded data removed]",
      "text/plain": [
       "<Figure size 576x576 with 1 Axes>"
      ]
     },
     "metadata": {},
     "output_type": "display_data"
    }
   ],
   "source": [
    "plt.figure(figsize=(8, 8))\n",
    "plt.plot(df_mse['MSE'], df_mse['Size'], color='green', marker='o', linestyle='dashed',linewidth=2, markersize=12)\n",
    "plt.title('MSE vs. Block Size')\n",
    "plt.xlabel('Mean Squared Error')\n",
    "plt.ylabel('Image Block Size')\n",
    "pylab.savefig('compr/mse.png')"
   ]
  },
  {
   "cell_type": "code",
   "execution_count": 134,
   "metadata": {},
   "outputs": [
    {
     "data": {
      "image/png": "[encoded data removed]",
      "text/plain": [
       "<Figure size 576x576 with 1 Axes>"
      ]
     },
     "metadata": {},
     "output_type": "display_data"
    }
   ],
   "source": [
    "plt.figure(figsize=(8, 8))\n",
    "plt.plot(df_mse['MSE'], df_mse['Size'], color='red', marker='o', linestyle='dashed',linewidth=2, markersize=12)\n",
    "plt.title('RMSE vs. Block Size')\n",
    "plt.xlabel('Root Mean Squared Error')\n",
    "plt.ylabel('Image Block Size')\n",
    "pylab.savefig('compr/rmse.png')"
   ]
  },
  {
   "cell_type": "code",
   "execution_count": null,
   "metadata": {
    "collapsed": true
   },
   "outputs": [],
   "source": []
  }
 ],
 "metadata": {
  "kernelspec": {
   "display_name": "Python 3",
   "language": "python",
   "name": "python3"
  },
  "language_info": {
   "codemirror_mode": {
    "name": "ipython",
    "version": 3
   },
   "file_extension": ".py",
   "mimetype": "text/x-python",
   "name": "python",
   "nbconvert_exporter": "python",
   "pygments_lexer": "ipython3",
   "version": "3.6.3"
  }
 },
 "nbformat": 4,
 "nbformat_minor": 2
}
